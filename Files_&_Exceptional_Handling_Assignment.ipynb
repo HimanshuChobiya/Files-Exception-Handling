{
  "nbformat": 4,
  "nbformat_minor": 0,
  "metadata": {
    "colab": {
      "provenance": []
    },
    "kernelspec": {
      "name": "python3",
      "display_name": "Python 3"
    },
    "language_info": {
      "name": "python"
    }
  },
  "cells": [
    {
      "cell_type": "markdown",
      "source": [
        "#Files & Exceptional Handling Assignment"
      ],
      "metadata": {
        "id": "_iglgivGqGn7"
      }
    },
    {
      "cell_type": "markdown",
      "source": [
        "###Q.1.What is the difference between interpreted and compiled languages?\n",
        "\n",
        "-->The key difference between compiled and interpreted programming languages lies in how their code is translated and executed.\n",
        "\n",
        "Compiled languages translate the entire program into machine code (or bytecode) before execution.\n",
        "\n",
        "while interpreted languages translate and execute code line by line."
      ],
      "metadata": {
        "id": "bBBarQLDqTj_"
      }
    },
    {
      "cell_type": "markdown",
      "source": [
        "###Q.2.What is exception handling in Python?\n",
        "\n",
        "-->In Python, exception handling is a mechanism to manage errors that occur during program execution. When an error, also known as an exception, is raised, the program's normal flow is interrupted. Exception handling allows developers to catch these exceptions and either handle them gracefully, preventing the program from crashing or continuing execution, or pass them on to be handled at a higher level."
      ],
      "metadata": {
        "id": "dnuUrC1Sq65Q"
      }
    },
    {
      "cell_type": "markdown",
      "source": [
        "###Q.3.What is the purpose of the finally block in exception handling?\n",
        "\n",
        "-->The purpose of the finally block in exception handling is to ensure that certain code, often cleanup tasks like closing files or releasing resources, is executed regardless of whether an exception was thrown or caught in the try block. This guarantees that crucial operations, such as releasing resources, always occur, even in the presence of exceptions, preventing potential resource leaks and ensuring program stability.\n"
      ],
      "metadata": {
        "id": "7Q0Fh6PkrHWJ"
      }
    },
    {
      "cell_type": "markdown",
      "source": [
        "###Q.4.What is logging in Python?\n",
        "\n",
        "--> Python logging is a module that allows you to track events that occur while your program is running. Logging can be used to record information about errors, warnings, and other events that occur during program execution. And logging is a useful tool for debugging, troubleshooting, and monitoring program."
      ],
      "metadata": {
        "id": "Jd2j8dQ-rUn6"
      }
    },
    {
      "cell_type": "markdown",
      "source": [
        "###Q.5.What is the significance of the __del__ method in Python?\n",
        "\n",
        "--> The __del__ method in Python is a powerful tool for managing resource cleanup when objects are destroyed. It allows user define specific actions that should be taken when an object is garbage collected, such as closing files, releasing locks, or closing network connections."
      ],
      "metadata": {
        "id": "opvPtd3Krm8U"
      }
    },
    {
      "cell_type": "markdown",
      "source": [
        "###Q.6.What is the difference between import and from ... import in Python?\n",
        "\n",
        "--> The difference between import and from import in Python is:\n",
        "\n",
        "import imports an entire code library.\n",
        "\n",
        "from import imports a specific member or members of the library."
      ],
      "metadata": {
        "id": "oJcAtIcrr3H5"
      }
    },
    {
      "cell_type": "markdown",
      "source": [
        "###Q.7.How can you handle multiple exceptions in Python?\n",
        "\n",
        "--> In Python, you can handle multiple exceptions using a try-except block with multiple except clauses or by using a single except clause with a tuple of exception types. When using multiple except clauses, each clause handles a specific exception type. If a single except clause with a tuple is used, it handles all exceptions listed in the tuple in the same way."
      ],
      "metadata": {
        "id": "pXMQsGqfsFUb"
      }
    },
    {
      "cell_type": "markdown",
      "source": [
        "###Q.8.What is the purpose of the with statement when handling files in Python?\n",
        "\n",
        "--> The purpose of the with statement in Python file handling is to streamline resource management, ensuring files are opened and closed automatically, and that the code within the with block executes even if exceptions are raised. This simplifies file operations and reduces the risk of resource leaks."
      ],
      "metadata": {
        "id": "5eDGuRnbsQtN"
      }
    },
    {
      "cell_type": "markdown",
      "source": [
        "###Q.9.What is the difference between multithreading and multiprocessing?\n",
        "\n",
        "--> Multithreading and multiprocessing are both techniques to execute multiple tasks concurrently, but they differ in how they achieve parallelism.\n",
        "\n",
        "Multithreading allows multiple threads to share the same memory space within a single process.\n",
        "\n",
        "Multiprocessing involves multiple processes with their own memory spaces."
      ],
      "metadata": {
        "id": "XFcF4r9nsjyd"
      }
    },
    {
      "cell_type": "markdown",
      "source": [
        "###Q.10.What are the advantages of using logging in a program?\n",
        "\n",
        "--> Logging offers significant advantages in software development, including improved debugging, performance monitoring, security enhancements, and compliance. It provides a structured way to track events, errors, and performance metrics, making it easier to identify and resolve issues. Furthermore, logs can be used for various purposes like event tracing, request tracing, and security auditing."
      ],
      "metadata": {
        "id": "k1B1m_60s1G3"
      }
    },
    {
      "cell_type": "markdown",
      "source": [
        "###Q.11.What is memory management in Python?\n",
        "\n",
        "--> Python Memory ManagementIn Python, memory management is the process of allocating and deallocating memory for objects and data structures during program execution. Python handles this automatically, meaning developers generally don't need to manually allocate or free memory. This is done through a private heap, where all Python objects are stored, and the Python memory manager handles allocation and deallocation."
      ],
      "metadata": {
        "id": "uVuGoivYtASb"
      }
    },
    {
      "cell_type": "markdown",
      "source": [
        "###Q.12. What are the basic steps involved in exception handling in Python?\n",
        "\n",
        "--> Exception handling in Python is all about writing code that gracefully deals with errors rather than crashing your program. Here are the basic steps involved:\n",
        "\n",
        "1.Try Block:\n",
        "\n",
        "Wrap code that might cause an error inside a try block.\n",
        "\n",
        "2.Except Block:\n",
        "\n",
        "Use one or more except blocks to handle specific exceptions.\n",
        "\n",
        "3.Else Block (Optional):\n",
        "\n",
        "This block runs if no exceptions were raised in the try.\n",
        "\n",
        "4.Finally Block (Optional):\n",
        "\n",
        "i. This block always runs, whether there was an exception or not.\n",
        "\n",
        "ii. Good for cleanup tasks (like closing a file or database connection)."
      ],
      "metadata": {
        "id": "4zUyD16btPDm"
      }
    },
    {
      "cell_type": "markdown",
      "source": [
        "###Q.13.Why is memory management important in Python?\n",
        "\n",
        "-->Python uses automatic memory management, primarily relying on a private heap and object-specific allocators, ensuring efficient allocation and deallocation of memory for objects. This process is managed by Python's internal memory manager, which leverages reference counting and garbage collection to track and reclaim unused memory."
      ],
      "metadata": {
        "id": "5aLqsbQKuKP-"
      }
    },
    {
      "cell_type": "markdown",
      "source": [
        "###Q.14.What is the role of try and except in exception handling?\n",
        "\n",
        "-->In exception handling, the try and except blocks work together to gracefully manage errors that might occur during code execution.\n",
        "\n",
        "The try block contains the code that might potentially raise an exception,\n",
        "\n",
        "while the except block provides instructions for handling that exception if it occurs."
      ],
      "metadata": {
        "id": "14zYJk7duWXJ"
      }
    },
    {
      "cell_type": "markdown",
      "source": [
        "###Q.15.How does Python's garbage collection system work?\n",
        "\n",
        "-->Python uses a hybrid approach for garbage collection: reference counting and generational garbage collection. Reference counting identifies objects with no active references and frees their memory immediately. Generational garbage collection uses a mark-and-sweep algorithm to identify and collect objects that are no longer reachable, particularly addressing issues with circular references.\n",
        "\n",
        "1.Reference Counting\n",
        "2.Generational Garbage Collection (Mark and Sweep)"
      ],
      "metadata": {
        "id": "cCALgaGOujla"
      }
    },
    {
      "cell_type": "markdown",
      "source": [
        "###Q.16.What is the purpose of the else block in exception handling?\n",
        "\n",
        "-->The else block in exception handling, often used in try...except...else structures, executes when no exceptions are raised within the try block. It's used to perform actions that should only run when the try block executes successfully, providing a way to handle positive outcomes after a potentially risky operation."
      ],
      "metadata": {
        "id": "CJBFVMqyvVVu"
      }
    },
    {
      "cell_type": "markdown",
      "source": [
        "###Q.17.What are the common logging levels in Python?\n",
        "\n",
        "-->Python logging supports multiple levels of severity, such as DEBUG , INFO , WARNING , ERROR , and CRITICAL , allowing you to categorize and filter log messages effectively. DEBUG: It is used for detailed information for diagnosing problems. It is typically used for development and debugging."
      ],
      "metadata": {
        "id": "h6x7IWzVvgFI"
      }
    },
    {
      "cell_type": "markdown",
      "source": [
        "###Q.18.What is the difference between os.fork() and multiprocessing in Python?\n",
        "\n",
        "-->\n",
        "###os.fork():\n",
        "1.What it does: Directly creates a child process by duplicating the current process.\n",
        "\n",
        "2.Platform: Unix/Linux only (Not available on Windows).\n",
        "\n",
        "3.Low-level: Gives you full control over the child process.\n",
        "\n",
        "4.Return value:\n",
        "\n",
        "i.0 in the child process.\n",
        "\n",
        "ii.PID of the child in the parent process.\n",
        "\n",
        "###multiprocessing Module:\n",
        "1.What it does: Provides a high-level API to create and manage separate processes.\n",
        "\n",
        "2.Platform: Cross-platform (works on Windows, macOS, Linux).\n",
        "\n",
        "3.Easy to use: Similar to using threading, but with processes.\n",
        "\n",
        "4.Automatically handles:\n",
        "\n",
        "i.Process creation\n",
        "\n",
        "ii.Communication (via pipes/queues)\n",
        "\n",
        "iii.Data sharing (via Value, Array, Manager)"
      ],
      "metadata": {
        "id": "0FKhUn9Kv7SJ"
      }
    },
    {
      "cell_type": "markdown",
      "source": [
        "###Q.19.What is the importance of closing a file in Python?\n",
        "\n",
        "-->Closing files in Python is an essential practice that helps maintain data integrity, prevent resource leaks, and ensure the reliability of your applications. By mastering file handling techniques, you can write more robust and efficient Python code that effectively manages file resources."
      ],
      "metadata": {
        "id": "wL55PSNgwpS-"
      }
    },
    {
      "cell_type": "markdown",
      "source": [
        "###Q.20.What is the difference between file.read() and file.readline() in Python?\n",
        "\n",
        "-->\n",
        "###file.read():\n",
        "\n",
        "i. Reads the entire file's content into a single string.\n",
        "\n",
        "ii. If no argument is provided, it reads the entire file from the current position.\n",
        "\n",
        "iii. Returns a string containing all the characters in the file.\n",
        "\n",
        "iv. Can be less efficient for large files as it loads the entire file into memory.\n",
        "\n",
        "###file.readline():\n",
        "\n",
        "i. Reads a single line from the file.\n",
        "\n",
        "ii. A newline character (\\n) is included at the end of the line, unless it's the last line of the file.\n",
        "\n",
        "iii. Returns a string containing the characters up to the next newline character.\n",
        "\n",
        "iv. If there are no more lines, it returns an empty string.\n",
        "\n",
        "v. Useful for processing files line by line, especially for large files."
      ],
      "metadata": {
        "id": "s74Z1Obuw2Lc"
      }
    },
    {
      "cell_type": "markdown",
      "source": [
        "###Q.21.What is the logging module in Python used for?\n",
        "\n",
        "--> The logging module in Python is a tool used to record events that occur during the execution of a program. It's a powerful way to track errors, warnings, and informational messages, which is helpful for debugging, troubleshooting, and monitoring your application. Logging provides a structured way to keep a record of what's happening within your code, making it easier to understand the behavior of your application and identify potential issues."
      ],
      "metadata": {
        "id": "fwoUOtLVxtMH"
      }
    },
    {
      "cell_type": "markdown",
      "source": [
        "###Q.22.What is the os module in Python used for in file handling?\n",
        "\n",
        "--> The os module in Python is a built-in module that provides a way to interact with the operating system, and it's super handy for file and directory handling."
      ],
      "metadata": {
        "id": "gyMRNCswyDYo"
      }
    },
    {
      "cell_type": "markdown",
      "source": [
        "###Q.23.What are the challenges associated with memory management in Python?\n",
        "\n",
        "--> Python uses a combination of reference counting and garbage collection for memory management.\n",
        "\n",
        "1.Reference Counting:\n",
        "This is the primary mechanism for memory management in Python.\n",
        "\n",
        "2.Garbage Collection:\n",
        "Python's garbage collector automatically reclaims memory occupied by objects that are no longer in use, even if their reference count is not zero.\n",
        "\n",
        "3.Circular References:\n",
        "A key limitation of reference counting is its inability to handle circular references, where objects reference each other, creating a cycle.\n",
        "\n",
        "4.Private Heap:\n",
        "Python manages memory within a private heap, which is a dedicated block of memory for all Python objects and data structures.\n",
        "\n",
        "5.Memory Fragmentation:\n",
        "While not a primary concern in Python, memory fragmentation can still occur when objects of varying sizes are allocated and deallocated frequently.\n",
        "\n",
        "6.Performance:\n",
        "Python's memory management can introduce some performance overhead, particularly during garbage collection cycles."
      ],
      "metadata": {
        "id": "ah0LfvIWyW4G"
      }
    },
    {
      "cell_type": "markdown",
      "source": [
        "###Q.24.  How do you raise an exception manually in Python?\n",
        "\n",
        "--> it can manually be raise an exception in Python using the raise keyword. It’s useful when you want to enforce certain conditions or signal that something unexpected happened in your code.\n",
        "\n",
        "Basic Syntax:\n",
        "\n",
        "raise ExceptionType(\"Custom error message\")\n"
      ],
      "metadata": {
        "id": "7ssoVlasy8kQ"
      }
    },
    {
      "cell_type": "markdown",
      "source": [
        "###Q.25.Why is it important to use multithreading in certain applications?\n",
        "\n",
        "-->Multithreading is important in applications to improve performance, responsiveness, and resource utilization, especially in scenarios involving parallel execution or handling multiple requests simultaneously. It allows tasks to be executed concurrently, potentially speeding up overall application execution and improving user experience."
      ],
      "metadata": {
        "id": "TmvFOKojzfmz"
      }
    },
    {
      "cell_type": "markdown",
      "source": [
        "# Practical Questions"
      ],
      "metadata": {
        "id": "8Gd3tZAZzpe1"
      }
    },
    {
      "cell_type": "markdown",
      "source": [
        "###Q.1.How can you open a file for writing in Python and write a string to it?"
      ],
      "metadata": {
        "id": "03DpJg18zssl"
      }
    },
    {
      "cell_type": "code",
      "source": [
        "with open('example.txt', 'w') as file:\n",
        "\n",
        " file.write('Hello, world!')"
      ],
      "metadata": {
        "id": "cGePSPjBqOkE"
      },
      "execution_count": 14,
      "outputs": []
    },
    {
      "cell_type": "markdown",
      "source": [
        "###Q.2.Write a Python program to read the contents of a file and print each line."
      ],
      "metadata": {
        "id": "6h5GUw-M0oVO"
      }
    },
    {
      "cell_type": "code",
      "source": [
        "filename = 'example.txt'\n",
        "\n",
        "with open(filename, 'r') as file:\n",
        "    for line in file:\n",
        "        print(line.strip())"
      ],
      "metadata": {
        "id": "rnsjxXKyBZCi"
      },
      "execution_count": null,
      "outputs": []
    },
    {
      "cell_type": "markdown",
      "source": [
        "###Q.3.How would you handle a case where the file doesn't exist while trying to open it for reading?"
      ],
      "metadata": {
        "id": "2fNqzLZo1NMh"
      }
    },
    {
      "cell_type": "code",
      "source": [
        "filename = 'example.txt'\n",
        "\n",
        "try:\n",
        "    with open(filename, 'r') as file:\n",
        "        for line in file:\n",
        "            print(line.strip())\n",
        "except FileNotFoundError:\n",
        "    print(f\"The file '{filename}' does not exist.\")\n",
        "except Exception as e:\n",
        "    print(f\"An error occurred: {e}\")"
      ],
      "metadata": {
        "id": "cBec0KMMBXFS"
      },
      "execution_count": null,
      "outputs": []
    },
    {
      "cell_type": "markdown",
      "source": [
        "###Q.4.Write a Python script that reads from one file and writes its content to another file?\n",
        "\n"
      ],
      "metadata": {
        "id": "5ULax1k213k2"
      }
    },
    {
      "cell_type": "code",
      "source": [
        "source_file = \"source.txt\"\n",
        "destination_file = \"destination.txt\"\n",
        "\n",
        "try:\n",
        "    with open(source_file, 'r') as src:\n",
        "        content = src.read()\n",
        "\n",
        "    with open(destination_file, 'w') as dst:\n",
        "        dst.write(content)\n",
        "\n",
        "    print(f\"Content copied from '{source_file}' to '{destination_file}' successfully.\")\n",
        "\n",
        "except FileNotFoundError:\n",
        "    print(f\"Error: The source file '{source_file}' does not exist.\")\n",
        "except Exception as e:\n",
        "    print(f\"An unexpected error occurred: {e}\")\n"
      ],
      "metadata": {
        "id": "13Xcwa3kBU34"
      },
      "execution_count": null,
      "outputs": []
    },
    {
      "cell_type": "markdown",
      "source": [
        "###Q.5.How would you catch and handle division by zero error in Python."
      ],
      "metadata": {
        "id": "P8Cy9f9e2Lqb"
      }
    },
    {
      "cell_type": "code",
      "source": [
        "try:\n",
        "    numerator = 10\n",
        "    denominator = 0\n",
        "    result = numerator / denominator\n",
        "    print(\"Result:\", result)\n",
        "\n",
        "except ZeroDivisionError:\n",
        "    print(\"Error: You can't divide by zero!\")\n"
      ],
      "metadata": {
        "id": "AxmaDFRhBSok"
      },
      "execution_count": null,
      "outputs": []
    },
    {
      "cell_type": "markdown",
      "source": [
        "###Q.6.Write a Python program that logs an error message to a log file when a division by zero exception occurs."
      ],
      "metadata": {
        "id": "m5zQDLZ72ZZ9"
      }
    },
    {
      "cell_type": "code",
      "source": [
        "import logging\n",
        "\n",
        "logging.basicConfig(\n",
        "    filename='error_log.txt',\n",
        "    level=logging.ERROR,\n",
        "    format='%(asctime)s - %(levelname)s - %(message)s'\n",
        ")\n",
        "\n",
        "def divide(a, b):\n",
        "    try:\n",
        "        result = a / b\n",
        "        print(\"Result:\", result)\n",
        "    except ZeroDivisionError as e:\n",
        "        print(\"Error: Cannot divide by zero.\")\n",
        "        logging.error(\"Attempted division by zero: %s\", e)\n",
        "\n",
        "# Example usage\n",
        "divide(10, 0)\n"
      ],
      "metadata": {
        "id": "PF_JqXQ5BPs6"
      },
      "execution_count": null,
      "outputs": []
    },
    {
      "cell_type": "markdown",
      "source": [
        "###Q.7.How do you log information at different levels (INFO, ERROR, WARNING) in Python using the logging module."
      ],
      "metadata": {
        "id": "YfA-s6_d24cu"
      }
    },
    {
      "cell_type": "code",
      "source": [
        "import logging\n",
        "\n",
        "logging.basicConfig(\n",
        "    level=logging.DEBUG,\n",
        "    format='%(asctime)s - %(levelname)s - %(message)s'\n",
        ")\n",
        "\n",
        "# Log messages at different levels\n",
        "logging.debug('This is a debug message.')\n",
        "logging.info('This is an info message.')\n",
        "logging.warning('This is a warning message.')\n",
        "logging.error('This is an error message.')\n",
        "logging.critical('This is a critical message.')"
      ],
      "metadata": {
        "id": "KLD9n5iqBKr0"
      },
      "execution_count": null,
      "outputs": []
    },
    {
      "cell_type": "markdown",
      "source": [
        "###Q.8.Write a program to handle a file opening error using exception handling.\n"
      ],
      "metadata": {
        "id": "7uhUqdWk3VL3"
      }
    },
    {
      "cell_type": "code",
      "source": [
        "def read_file(filename):\n",
        "    try:\n",
        "        with open(filename, 'r') as file:\n",
        "            contents = file.read()\n",
        "            print(contents)\n",
        "    except FileNotFoundError:\n",
        "        print(f\"Error: The file '{filename}' does not exist.\")\n",
        "    except PermissionError:\n",
        "        print(f\"Error: You do not have permission to read the file '{filename}'.\")\n",
        "    except Exception as e:\n",
        "        print(f\"An unexpected error occurred: {e}\")\n",
        "\n",
        "filename = 'example.txt'\n",
        "\n",
        "read_file(filename)"
      ],
      "metadata": {
        "id": "HvaUUXLTBIdW"
      },
      "execution_count": null,
      "outputs": []
    },
    {
      "cell_type": "markdown",
      "source": [
        "###Q.9.How can you read a file line by line and store its content in a list in Python."
      ],
      "metadata": {
        "id": "BZyGm9673v4a"
      }
    },
    {
      "cell_type": "code",
      "source": [
        "def read_file_to_list(filename):\n",
        "    try:\n",
        "\n",
        "        lines = []\n",
        "\n",
        "\n",
        "        with open(filename, 'r') as file:\n",
        "\n",
        "            for line in file:\n",
        "\n",
        "                lines.append(line.strip())\n",
        "\n",
        "        return lines\n",
        "    except FileNotFoundError:\n",
        "        print(f\"Error: The file '{filename}' does not exist.\")\n",
        "    except PermissionError:\n",
        "        print(f\"Error: You do not have permission to read the file '{filename}'.\")\n",
        "    except Exception as e:\n",
        "        print(f\"An unexpected error occurred: {e}\")\n",
        "\n",
        "filename = 'example.txt'\n",
        "\n",
        "lines_list = read_file_to_list(filename)\n",
        "\n",
        "if lines_list is not None:\n",
        "    print(lines_list)"
      ],
      "metadata": {
        "id": "103f99-JBGT6"
      },
      "execution_count": null,
      "outputs": []
    },
    {
      "cell_type": "markdown",
      "source": [
        "###Q.10.How can you append data to an existing file in Python."
      ],
      "metadata": {
        "id": "pRda-H8L4FEE"
      }
    },
    {
      "cell_type": "code",
      "source": [
        "def append_to_file(filename, data):\n",
        "    try:\n",
        "        with open(filename, 'a') as file:\n",
        "            file.write(data + '\\n')\n",
        "    except Exception as e:\n",
        "        print(f\"An error occurred while appending to the file: {e}\")\n",
        "\n",
        "\n",
        "filename = 'example.txt'\n",
        "\n",
        "data_to_append = \"This is a new line of text.\"\n",
        "\n",
        "append_to_file(filename, data_to_append)\n",
        "\n",
        "print(f\"Data appended to '{filename}' successfully.\")"
      ],
      "metadata": {
        "id": "907xQMclBDea"
      },
      "execution_count": null,
      "outputs": []
    },
    {
      "cell_type": "markdown",
      "source": [
        "###Q.11. Write a Python program that uses a try-except block to handle an error when attempting to access a dictionary key that doesn't exist."
      ],
      "metadata": {
        "id": "8kh_uYKw4diH"
      }
    },
    {
      "cell_type": "code",
      "source": [
        "person = {\n",
        "    \"name\": \"Alice\",\n",
        "    \"age\": 30\n",
        "}\n",
        "\n",
        "try:\n",
        "    print(\"Name:\", person[\"name\"])\n",
        "    print(\"City:\", person[\"city\"])\n",
        "\n",
        "except KeyError as e:\n",
        "    print(f\"Error: The key '{e}' does not exist in the dictionary.\")\n"
      ],
      "metadata": {
        "id": "sMrDdqxgAwJx"
      },
      "execution_count": null,
      "outputs": []
    },
    {
      "cell_type": "markdown",
      "source": [
        "###Q.12.Write a program that demonstrates using multiple except blocks to handle different types of exceptions."
      ],
      "metadata": {
        "id": "q8urg74946Lw"
      }
    },
    {
      "cell_type": "code",
      "source": [
        "def perform_calculation():\n",
        "    try:\n",
        "        num1 = float(input(\"Enter the first number: \"))\n",
        "        num2 = float(input(\"Enter the second number: \"))\n",
        "\n",
        "        result = num1 / num2\n",
        "        print(f\"The result of {num1} divided by {num2} is {result:.2f}\")\n",
        "\n",
        "    except ValueError:\n",
        "        print(\"Error: Please enter valid numbers.\")\n",
        "    except ZeroDivisionError:\n",
        "        print(\"Error: Division by zero is not allowed.\")\n",
        "    except Exception as e:\n",
        "        print(f\"An unexpected error occurred: {e}\")\n",
        "\n",
        "perform_calculation()"
      ],
      "metadata": {
        "id": "bI03hceNAuIW"
      },
      "execution_count": null,
      "outputs": []
    },
    {
      "cell_type": "markdown",
      "source": [
        "###Q.13.How would you check if a file exists before attempting to read it in Python."
      ],
      "metadata": {
        "id": "OznM6KZp5Psn"
      }
    },
    {
      "cell_type": "code",
      "source": [
        "from pathlib import Path\n",
        "\n",
        "file_path = Path(\"myfile.txt\")\n",
        "\n",
        "if file_path.exists():\n",
        "    with file_path.open('r') as file:\n",
        "        content = file.read()\n",
        "        print(\"File content:\\n\", content)\n",
        "else:\n",
        "    print(f\"The file '{file_path}' does not exist.\")\n"
      ],
      "metadata": {
        "id": "OBiPevdYArqS"
      },
      "execution_count": null,
      "outputs": []
    },
    {
      "cell_type": "markdown",
      "source": [
        "###Q.14.Write a program that uses the logging module to log both informational and error messages."
      ],
      "metadata": {
        "id": "Te9gmYgh5elz"
      }
    },
    {
      "cell_type": "code",
      "source": [
        "import logging\n",
        "\n",
        "\n",
        "logging.basicConfig(\n",
        "    level=logging.DEBUG,\n",
        "    format='%(asctime)s - %(levelname)s - %(message)s',      filename='app.log',\n",
        "    filemode='a'\n",
        ")\n",
        "\n",
        "def perform_calculation(num1, num2):\n",
        "    try:\n",
        "        logging.info(f\"Attempting to divide {num1} by {num2}.\")\n",
        "        result = num1 / num2\n",
        "        logging.info(f\"The result of {num1} divided by {num2} is {result:.2f}.\")\n",
        "        return result\n",
        "    except ZeroDivisionError:\n",
        "        logging.error(\"Error: Division by zero is not allowed.\")\n",
        "        return None\n",
        "    except Exception as e:\n",
        "        logging.error(f\"An unexpected error occurred: {e}\")\n",
        "        return None\n",
        "\n",
        "# Example usage\n",
        "if __name__ == \"__main__\":\n",
        "    # Test with valid numbers\n",
        "    perform_calculation(10, 2)\n",
        "\n",
        "    # Test with division by zero\n",
        "    perform_calculation(10, 0)\n",
        "\n",
        "    # Test with invalid input\n",
        "    perform_calculation(10, 'a')"
      ],
      "metadata": {
        "id": "YtI7hGoMAnkE"
      },
      "execution_count": null,
      "outputs": []
    },
    {
      "cell_type": "markdown",
      "source": [
        "###Q.15. Write a Python program that prints the content of a file and handles the case when the file is empty."
      ],
      "metadata": {
        "id": "HV5-s-jw55la"
      }
    },
    {
      "cell_type": "code",
      "source": [
        "import os\n",
        "\n",
        "file_name = \"sample.txt\"\n",
        "\n",
        "if os.path.exists(file_name):\n",
        "    with open(file_name, 'r') as file:\n",
        "        content = file.read()\n",
        "        if content.strip():\n",
        "            print(\"File Content:\\n\")\n",
        "            print(content)\n",
        "        else:\n",
        "            print(f\"The file '{file_name}' is empty.\")\n",
        "else:\n",
        "    print(f\"The file '{file_name}' does not exist.\")\n"
      ],
      "metadata": {
        "id": "lGzI4S_DAlFw"
      },
      "execution_count": null,
      "outputs": []
    },
    {
      "cell_type": "markdown",
      "source": [
        "###Q.16.Demonstrate how to use memory profiling to check the memory usage of a small program."
      ],
      "metadata": {
        "id": "45eqfCck6G5U"
      }
    },
    {
      "cell_type": "code",
      "source": [
        "import os\n",
        "\n",
        "@profile\n",
        "def check_file():\n",
        "    file_name = \"sample.txt\"\n",
        "\n",
        "    if os.path.exists(file_name):\n",
        "        with open(file_name, 'r') as file:\n",
        "            content = file.read()\n",
        "            if content.strip():\n",
        "                print(\"File Content:\\n\")\n",
        "                print(content)\n",
        "            else:\n",
        "                print(f\"The file '{file_name}' is empty.\")\n",
        "    else:\n",
        "        print(f\"The file '{file_name}' does not exist.\")\n",
        "\n",
        "check_file()\n"
      ],
      "metadata": {
        "id": "wzMHDutc6iTQ"
      },
      "execution_count": null,
      "outputs": []
    },
    {
      "cell_type": "markdown",
      "source": [
        "###Q.17.Write a Python program to create and write a list of numbers to a file, one number per line."
      ],
      "metadata": {
        "id": "pEL_ftW07K03"
      }
    },
    {
      "cell_type": "code",
      "source": [
        "numbers = [1, 2, 3, 4, 5, 10, 20, 50]\n",
        "\n",
        "file_name = \"numbers.txt\"\n",
        "\n",
        "with open(file_name, 'w') as file:\n",
        "    for number in numbers:\n",
        "        file.write(f\"{number}\\n\")\n",
        "\n",
        "print(f\"Successfully wrote {len(numbers)} numbers to '{file_name}'.\")\n"
      ],
      "metadata": {
        "id": "me9wcCg_Ah0E"
      },
      "execution_count": null,
      "outputs": []
    },
    {
      "cell_type": "markdown",
      "source": [
        "###Q.18.How would you implement a basic logging setup that logs to a file with rotation after 1MB."
      ],
      "metadata": {
        "id": "pUXXd5QW96iJ"
      }
    },
    {
      "cell_type": "code",
      "source": [
        "import logging\n",
        "from logging.handlers import RotatingFileHandler\n",
        "\n",
        "\n",
        "log_file = \"app.log\"\n",
        "log_size = 1 * 1024 * 1024\n",
        "backup_count = 3\n",
        "\n",
        "logger = logging.getLogger(\"MyLogger\")\n",
        "logger.setLevel(logging.DEBUG)\n",
        "\n",
        "handler = RotatingFileHandler(log_file, maxBytes=log_size, backupCount=backup_count)\n",
        "formatter = logging.Formatter('%(asctime)s - %(levelname)s - %(message)s')\n",
        "handler.setFormatter(formatter)\n",
        "\n",
        "logger.addHandler(handler)\n",
        "\n",
        "# Example usage\n",
        "for i in range(10000):\n",
        "    logger.debug(f\"This is log message number {i}\")\n"
      ],
      "metadata": {
        "id": "yFm97z1Q-Okq"
      },
      "execution_count": null,
      "outputs": []
    },
    {
      "cell_type": "markdown",
      "source": [
        "###Q.19.Write a program that handles both IndexError and KeyError using a try-except block."
      ],
      "metadata": {
        "id": "XAabr_kn-Ujy"
      }
    },
    {
      "cell_type": "code",
      "source": [
        "def access_data(my_list, my_dict, list_index, dict_key):\n",
        "    try:\n",
        "        list_value = my_list[list_index]\n",
        "        print(f\"Value from list at index {list_index}: {list_value}\")\n",
        "\n",
        "        dict_value = my_dict[dict_key]\n",
        "        print(f\"Value from dictionary for key '{dict_key}': {dict_value}\")\n",
        "\n",
        "    except IndexError:\n",
        "        print(f\"Error: Index {list_index} is out of range for the list.\")\n",
        "    except KeyError:\n",
        "        print(f\"Error: Key '{dict_key}' not found in the dictionary.\")\n",
        "    except Exception as e:\n",
        "        print(f\"An unexpected error occurred: {e}\")\n",
        "\n",
        "# Example data\n",
        "my_list = [10, 20, 30, 40, 50]\n",
        "my_dict = {'a': 1, 'b': 2, 'c': 3}\n",
        "\n"
      ],
      "metadata": {
        "id": "9ZmkclE4-YSs"
      },
      "execution_count": null,
      "outputs": []
    },
    {
      "cell_type": "markdown",
      "source": [
        "###Q.20.How would you open a file and read its contents using a context manager in Python."
      ],
      "metadata": {
        "id": "d9Q3Ak9E-lAD"
      }
    },
    {
      "cell_type": "code",
      "source": [
        "def read_file_contents(filename):\n",
        "    try:\n",
        "        with open(filename, 'r') as file:\n",
        "            contents = file.read()\n",
        "            return contents\n",
        "    except FileNotFoundError:\n",
        "        print(f\"Error: The file '{filename}' does not exist.\")\n",
        "    except PermissionError:\n",
        "        print(f\"Error: You do not have permission to read the file '{filename}'.\")\n",
        "    except Exception as e:\n",
        "        print(f\"An unexpected error occurred: {e}\")\n",
        "\n",
        "filename = 'example.txt'\n",
        "\n",
        "file_contents = read_file_contents(filename)\n",
        "\n",
        "if file_contents is not None:\n",
        "    print(file_contents)"
      ],
      "metadata": {
        "id": "Sg0us3cdAdw_"
      },
      "execution_count": null,
      "outputs": []
    },
    {
      "cell_type": "markdown",
      "source": [
        "###Q.21. Write a Python program that reads a file and prints the number of occurrences of a specific word."
      ],
      "metadata": {
        "id": "kDtQlYd--1wc"
      }
    },
    {
      "cell_type": "code",
      "source": [
        "def count_word_occurrences(file_name, target_word):\n",
        "    try:\n",
        "        with open(file_name, 'r') as file:\n",
        "            content = file.read().lower()\n",
        "            words = content.split()\n",
        "            count = words.count(target_word.lower())\n",
        "            print(f\"The word '{target_word}' appears {count} time(s) in '{file_name}'.\")\n",
        "    except FileNotFoundError:\n",
        "        print(f\"Error: The file '{file_name}' does not exist.\")\n",
        "    except Exception as e:\n",
        "        print(f\"An error occurred: {e}\")\n",
        "\n",
        "# Example usage\n",
        "file_name = \"sample.txt\"\n",
        "target_word = \"python\"\n",
        "count_word_occurrences(file_name, target_word)\n"
      ],
      "metadata": {
        "id": "6bAiG0pb-0Ub"
      },
      "execution_count": null,
      "outputs": []
    },
    {
      "cell_type": "markdown",
      "source": [
        "###Q.22.How can you check if a file is empty before attempting to read its contents."
      ],
      "metadata": {
        "id": "4_3UXPvZ_yPT"
      }
    },
    {
      "cell_type": "code",
      "source": [
        "import os\n",
        "\n",
        "file_path = \"sample.txt\"\n",
        "\n",
        "if os.path.exists(file_path):\n",
        "    if os.path.getsize(file_path) == 0:\n",
        "        print(f\"The file '{file_path}' is empty.\")\n",
        "    else:\n",
        "        with open(file_path, 'r') as file:\n",
        "            content = file.read()\n",
        "            print(\"File content:\\n\", content)\n",
        "else:\n",
        "    print(f\"The file '{file_path}' does not exist.\")\n"
      ],
      "metadata": {
        "id": "w0Av1Ezj_9a7"
      },
      "execution_count": null,
      "outputs": []
    },
    {
      "cell_type": "markdown",
      "source": [
        "###Q.23.Write a Python program that writes to a log file when an error occurs during file handling."
      ],
      "metadata": {
        "id": "ob0OiNHpADVl"
      }
    },
    {
      "cell_type": "code",
      "source": [
        "import logging\n",
        "\n",
        "\n",
        "logging.basicConfig(\n",
        "    filename='error.log',\n",
        "    level=logging.ERROR,\n",
        "    format='%(asctime)s - %(levelname)s - %(message)s'\n",
        ")\n",
        "\n",
        "file_name = \"sample.txt\"\n",
        "\n",
        "try:\n",
        "    with open(file_name, 'r') as file:\n",
        "        content = file.read()\n",
        "        print(\"File Content:\\n\", content)\n",
        "except FileNotFoundError as e:\n",
        "    print(f\"Error: The file '{file_name}' does not exist.\")\n",
        "    logging.error(\"File not found: %s\", file_name)\n",
        "except Exception as e:\n",
        "    print(\"An unexpected error occurred:\", e)\n",
        "    logging.error(\"Unexpected error: %s\", e)\n"
      ],
      "metadata": {
        "id": "IJb_hKvsAUqH"
      },
      "execution_count": null,
      "outputs": []
    }
  ]
}